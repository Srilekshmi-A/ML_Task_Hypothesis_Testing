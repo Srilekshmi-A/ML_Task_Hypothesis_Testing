{
 "cells": [
  {
   "cell_type": "markdown",
   "id": "67a71fec-b166-4fe7-a5f4-732b7544085a",
   "metadata": {},
   "source": [
    "# HYPOTHESIS TESTING"
   ]
  },
  {
   "cell_type": "markdown",
   "id": "21021cc6-d5cd-41bd-b2f4-92c794f73ade",
   "metadata": {},
   "source": [
    "### Question 1"
   ]
  },
  {
   "cell_type": "markdown",
   "id": "6d8c7b65-116e-48ad-81b7-aa61d2e3ddcf",
   "metadata": {},
   "source": [
    "###### Suppose a child psychologist says that the average time that working mothers spend talking to their children is at-least 11 minutes per day. \n",
    "###### You want to test\n",
    "###### You conduct a random sample of 1000 working mothers and find they spend an average of 11.5 minutes per day talking with their children. \n",
    "###### Assume prior research suggests the population standard deviation is 2.3 minutes.\n",
    "###### onduct test with a level of significance of alpha=0.05"
   ]
  },
  {
   "cell_type": "markdown",
   "id": "e450721d-1d3e-45ed-b768-2321edec7904",
   "metadata": {},
   "source": [
    "### Solution"
   ]
  },
  {
   "cell_type": "markdown",
   "id": "4db1e34b-8c43-4958-b53a-8430e8b35d55",
   "metadata": {},
   "source": [
    "#### creating null and alternate hypothesis\n",
    "###### Null hypothesis: The average time that working mothers spend talking to their children is at least 11 minutes per day.\n",
    "###### Alternate hypothesis: The average time that working mothers spend talking to their children is less than 11 minutes per day."
   ]
  },
  {
   "cell_type": "markdown",
   "id": "5acc2aea-4255-449d-b52f-4faf89d4201f",
   "metadata": {},
   "source": [
    "#### significance level\n",
    "###### level of significance (alpha)=0.05\n",
    "###### confidence interval =95%"
   ]
  },
  {
   "cell_type": "code",
   "execution_count": 7,
   "id": "aa5ade17-7468-4014-b6e5-abe358a4ec5e",
   "metadata": {},
   "outputs": [
    {
     "data": {
      "text/plain": [
       "0.2173913043478261"
      ]
     },
     "execution_count": 7,
     "metadata": {},
     "output_type": "execute_result"
    }
   ],
   "source": [
    "#### One tailed z test\n",
    "mu =11\n",
    "x =11.5\n",
    "std =2.3\n",
    "z= (x- mu)/ std\n",
    "z"
   ]
  },
  {
   "cell_type": "markdown",
   "id": "182439ba-2ec0-45f3-aae6-7f361d94e2b7",
   "metadata": {},
   "source": [
    "#### calculating critical value\n",
    "###### alpha = 5% =0.05\n",
    "###### from z table critical value for 0.05 is 1.645"
   ]
  },
  {
   "cell_type": "markdown",
   "id": "b474f552-7289-4441-a0cf-c566566fd014",
   "metadata": {},
   "source": [
    "#### Conclusion\n",
    "###### z value(0.21739) is less than critical value( 1.645) so we accept the hypothesis\n",
    "###### So, The average time that working mothers spend talking to their children is at least 11 minutes per day."
   ]
  },
  {
   "cell_type": "markdown",
   "id": "8430d775-808a-4871-ba1a-3581cecad0bd",
   "metadata": {},
   "source": [
    "### Question 2"
   ]
  },
  {
   "cell_type": "markdown",
   "id": "697e2a2e-1291-4571-8b45-9267012df53c",
   "metadata": {},
   "source": [
    "###### A coffee shop claims that their average wait time for customers is less than 5 minutes.\n",
    "###### To test this claim, a sample of 40 customers is taken, and their wait times are recorded. \n",
    "###### The sample mean wait time is found to be 4.6 minutes with a standard deviation of 0.8 minutes.\n",
    "###### Perform a hypothesis test at a significance level of 0.05 and determine whether there is enough \n",
    "###### evidence to support the coffee shop's claim.\n",
    "###### Perform the hypothesis testing using correct test statistics and appropriate critical value"
   ]
  },
  {
   "cell_type": "markdown",
   "id": "c4a25e24-b22a-4d78-823c-8a1f799a9151",
   "metadata": {},
   "source": [
    "### Solution"
   ]
  },
  {
   "cell_type": "markdown",
   "id": "11c8eb2f-70ce-427f-bf11-f86e35a66deb",
   "metadata": {},
   "source": [
    "#### creating null and alternate hypothesis\n",
    "###### Null hypothesis: The average wait time for customers at the coffee shop is less than 5 minutes.\n",
    "###### Alternative hypothesis: The average wait time for customers at the coffee shop is 5 minutes or more"
   ]
  },
  {
   "cell_type": "markdown",
   "id": "10bcbc7a-839e-433c-8c8f-173c6bb961b3",
   "metadata": {},
   "source": [
    "#### significance level\n",
    "###### level of significance (alpha)=0.05\n",
    "###### confidence interval =95%"
   ]
  },
  {
   "cell_type": "code",
   "execution_count": 8,
   "id": "75d7dabe-19f1-49c0-8fa3-d09b634f258c",
   "metadata": {},
   "outputs": [
    {
     "data": {
      "text/plain": [
       "-0.5000000000000004"
      ]
     },
     "execution_count": 8,
     "metadata": {},
     "output_type": "execute_result"
    }
   ],
   "source": [
    "#### One tailed z test\n",
    "mu =5\n",
    "x =4.6\n",
    "std =0.8\n",
    "z= (x- mu)/ std\n",
    "z"
   ]
  },
  {
   "cell_type": "markdown",
   "id": "d1fc532d-9eee-4ac9-8f9c-ec8174b99c0b",
   "metadata": {},
   "source": [
    "#### calculating critical value\n",
    "###### alpha = 5% =0.05\n",
    "###### from z table critical value for 0.05 is 1.645"
   ]
  },
  {
   "cell_type": "markdown",
   "id": "af213e2e-d8ed-48ac-b48e-feeddacf767b",
   "metadata": {},
   "source": [
    "#### Conclusion\n",
    "###### z value(-0.500) is less than critical value( 1.645) so we accept the hypothesis\n",
    "###### So, The average wait time for customers at the coffee shop is less than 5 minutes."
   ]
  },
  {
   "cell_type": "code",
   "execution_count": null,
   "id": "c8c32fb5-6460-44c2-bfa1-a158835243bf",
   "metadata": {},
   "outputs": [],
   "source": []
  },
  {
   "cell_type": "code",
   "execution_count": null,
   "id": "bc593069-428c-4a79-a3a2-b9191355b9c9",
   "metadata": {},
   "outputs": [],
   "source": []
  },
  {
   "cell_type": "code",
   "execution_count": null,
   "id": "9df05c9c-b5c6-4807-b399-6c9ae4a12338",
   "metadata": {},
   "outputs": [],
   "source": []
  },
  {
   "cell_type": "code",
   "execution_count": null,
   "id": "d9157994-64f4-4022-8f2c-8cf7489c98cb",
   "metadata": {},
   "outputs": [],
   "source": []
  },
  {
   "cell_type": "code",
   "execution_count": null,
   "id": "51423b22-307f-4ffb-8f9c-31264f36e8dc",
   "metadata": {},
   "outputs": [],
   "source": []
  },
  {
   "cell_type": "code",
   "execution_count": null,
   "id": "d3727863-7cad-4721-893c-741a5719ba44",
   "metadata": {},
   "outputs": [],
   "source": []
  },
  {
   "cell_type": "code",
   "execution_count": null,
   "id": "6e973eac-a5d2-4492-9e41-9650b7300cbf",
   "metadata": {},
   "outputs": [],
   "source": []
  },
  {
   "cell_type": "code",
   "execution_count": null,
   "id": "c96214db-f45e-402a-87ad-59ed8dc61c2c",
   "metadata": {},
   "outputs": [],
   "source": []
  },
  {
   "cell_type": "code",
   "execution_count": null,
   "id": "445d274d-31f2-4afb-81bf-fb99136a5f35",
   "metadata": {},
   "outputs": [],
   "source": []
  },
  {
   "cell_type": "code",
   "execution_count": null,
   "id": "f1e2c5fc-871a-482d-b37a-ab662e94513e",
   "metadata": {},
   "outputs": [],
   "source": []
  },
  {
   "cell_type": "code",
   "execution_count": null,
   "id": "34a14d9d-af18-4a74-bddf-a98d6b98b7cd",
   "metadata": {},
   "outputs": [],
   "source": []
  },
  {
   "cell_type": "code",
   "execution_count": null,
   "id": "0a7a3308-31d0-4d1a-8793-bd2f270a978e",
   "metadata": {},
   "outputs": [],
   "source": []
  },
  {
   "cell_type": "code",
   "execution_count": null,
   "id": "916c97e1-c8f7-48c5-950a-104c0648ffb4",
   "metadata": {},
   "outputs": [],
   "source": []
  },
  {
   "cell_type": "code",
   "execution_count": null,
   "id": "8ea8e6e6-12d0-4ecc-a5a7-9a7375302df9",
   "metadata": {},
   "outputs": [],
   "source": []
  },
  {
   "cell_type": "code",
   "execution_count": null,
   "id": "f6241572-b2a5-4d3a-b916-e4a71fb91a64",
   "metadata": {},
   "outputs": [],
   "source": []
  }
 ],
 "metadata": {
  "kernelspec": {
   "display_name": "Python 3 (ipykernel)",
   "language": "python",
   "name": "python3"
  },
  "language_info": {
   "codemirror_mode": {
    "name": "ipython",
    "version": 3
   },
   "file_extension": ".py",
   "mimetype": "text/x-python",
   "name": "python",
   "nbconvert_exporter": "python",
   "pygments_lexer": "ipython3",
   "version": "3.11.2"
  }
 },
 "nbformat": 4,
 "nbformat_minor": 5
}
